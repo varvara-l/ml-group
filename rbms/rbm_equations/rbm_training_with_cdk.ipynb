{
 "metadata": {
  "name": ""
 },
 "nbformat": 3,
 "nbformat_minor": 0,
 "worksheets": [
  {
   "cells": [
    {
     "cell_type": "code",
     "collapsed": false,
     "input": [
      "import numpy as np\n",
      "\n",
      "# softplus\n",
      "def softplus(x):\n",
      "    return np.log(1+np.exp(x))\n",
      "\n",
      "def line(x, slope=1):\n",
      "    return x*slope\n",
      "\n",
      "def rectified_linear(x):\n",
      "    if x > 0.0:\n",
      "        return x\n",
      "    return 0.0 \n",
      "\n",
      "\n",
      "def rectified_linear(x):\n",
      "    return np.maximum(x, 0.0)\n"
     ],
     "language": "python",
     "metadata": {},
     "outputs": [],
     "prompt_number": 23
    },
    {
     "cell_type": "code",
     "collapsed": false,
     "input": [
      "# cool, let's visualize it (x is 'z', y is 'g(z)')\n",
      "import matplotlib.pyplot as plt\n",
      "from pylab import *\n",
      "\n",
      "# notebook magic\n",
      "%matplotlib inline\n",
      "\n",
      "# map the sigmoid function over a vector of numbers\n",
      "x = np.arange(-5,5,0.1)\n",
      "y = softplus(x)\n",
      "line_y = line(x)\n",
      "rectified_y = rectified_linear(x)\n",
      "\n",
      "# add a vertical line at 0\n",
      "plt.axvline(x=0, ymin=0, ymax=1, ls='--')\n",
      "\n",
      "plt.plot(x, y, color='red', lw=2)\n",
      "plt.plot(x, rectified_y, '--', color='blue', lw=1)\n",
      "\n",
      "plt.xlabel('x')\n",
      "plt.ylabel('softplus(x)')\n",
      "plt.show()"
     ],
     "language": "python",
     "metadata": {},
     "outputs": [
      {
       "metadata": {},
       "output_type": "display_data",
       "png": "[encoded data removed]",
       "text": [
        "<matplotlib.figure.Figure at 0x3430810>"
       ]
      }
     ],
     "prompt_number": 24
    },
    {
     "cell_type": "markdown",
     "metadata": {},
     "source": [
      "### training corresponds to learning the values of W which are well aligned with features in our training data\n",
      "* \"make the training set more likely\"\n",
      "\n",
      "$ =\\exp{(\\mathbf{c}^T \\cdot \\mathbf{x} + \\sum\\limits_{j=1}^H softplus(b_j + \\mathbf{W}_j \\cdot \\mathbf{x}) )} / Z$"
     ]
    },
    {
     "cell_type": "markdown",
     "metadata": {},
     "source": [
      "### training a RBM using Contrastive Divergence (CD)\n",
      "\n",
      "#### we treat learning as a minimization problem\n",
      "* the minimization objective for an RBM is the average negative log-likelihood of the training data (NLL):\n",
      "\n",
      "so the loss function $l$\n",
      "$ \\dfrac{1}{T} \\sum \\limits_{t} l(f(x^{(t)})) $      \n",
      "        \n",
      "becomes:      \n",
      "$ \\dfrac{1}{T} \\sum \\limits_{t} -log(p(x^{(t)})) $"
     ]
    },
    {
     "cell_type": "markdown",
     "metadata": {},
     "source": [
      "### we're going to learn the model using stochastic gradient descent\n",
      "> we need the partial derivative of any parameter $ \\theta $ with respect to the loss function\n",
      "          \n",
      "Unlike linear or logistic regression, there are values of the network ($h$) that we never observe, so we need to do an expectation over $h$ \n",
      "       \n",
      "### the negative phase of SGD is computed using gibbs sampling, and a point-estimate after k steps is used to approximate the full expectation -- the sample we get is referred to as the 'negative sample'\n",
      "\n",
      "\n",
      "### in the positive phase, don't actually compute the expected $h$ value, just sample $h'$ given $x^{(t)}$\n",
      "\n",
      "as the model decreases the energy of things that look like our data, the sampled values $(x^{~}, h^{~})$ start to look more and more like our data -- so, intuitively, the gradient gets smaller and smaller "
     ]
    },
    {
     "cell_type": "markdown",
     "metadata": {},
     "source": [
      "<img src=\"http://i.imgur.com/4oAA7LA.png\" alt=\"Basic RBM Formulation\" style=\"width: 500px;\"/>\n",
      "<img src=\"http://i.imgur.com/yNYbKu9.png\" alt=\"Basic RBM Formulation\" style=\"width: 500px;\"/>"
     ]
    },
    {
     "cell_type": "markdown",
     "metadata": {},
     "source": [
      "\n",
      "> keep doing this until the model spits out things that look like our data\n",
      "\n",
      "* replace the expectation by a point estimate of x (x tilde)     \n",
      "      \n",
      "How to compute the full update (given that we have our estimates from gibbs sampling)      \n",
      "\n",
      "A note on sampling a $h_j$ given $x'$\n",
      "\n",
      "to sample the bernoulli for $h_j$, assign h_j = 1 with the following operation: $ p(h_j=1 | x) > U[0,1] $, where $U$ is a Uniform distribution \n",
      "\n",
      "***"
     ]
    },
    {
     "cell_type": "markdown",
     "metadata": {},
     "source": [
      "\n",
      "<img src=\"http://i.imgur.com/hQJEuDi.png\" alt=\"Basic RBM Formulation\" style=\"width: 500px;\"/>\n",
      "<img src=\"http://i.imgur.com/QLsryBU.png\" alt=\"Basic RBM Formulation\" style=\"width: 500px;\"/>"
     ]
    },
    {
     "cell_type": "markdown",
     "metadata": {},
     "source": [
      "\n",
      "<img src=\"http://i.imgur.com/i9WzBsD.png\" alt=\"Basic RBM Formulation\" style=\"width: 500px;\"/>\n",
      "<img src=\"http://i.imgur.com/SEuueoP.png\" alt=\"Basic RBM Formulation\" style=\"width: 500px;\"/>\n"
     ]
    },
    {
     "cell_type": "code",
     "collapsed": false,
     "input": [],
     "language": "python",
     "metadata": {},
     "outputs": []
    }
   ],
   "metadata": {}
  }
 ]
}