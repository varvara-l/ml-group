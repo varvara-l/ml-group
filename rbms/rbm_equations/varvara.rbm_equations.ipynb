{
 "metadata": {
  "name": "",
  "signature": "sha256:84ed8c0f72150bf424d5ef38d9d1f4d45d357e3affb7ba603cbebacddbe5921b"
 },
 "nbformat": 3,
 "nbformat_minor": 0,
 "worksheets": [
  {
   "cells": [
    {
     "cell_type": "markdown",
     "metadata": {},
     "source": [
      "[ipython notebook rich display capabilities](http://nbviewer.ipython.org/github/ipython/ipython/blob/1.x/examples/notebooks/Part%205%20-%20Rich%20Display%20System.ipynb)"
     ]
    },
    {
     "cell_type": "markdown",
     "metadata": {},
     "source": [
      "Ok, we want $ 0 \\leq h_\\theta(x) \\leq 1 $\n",
      "            \n",
      "Remember this representation:           \n",
      "$ h_\\theta = g(\\theta^Tx) $      \n",
      "          \n",
      "where:      \n",
      "$ g(z) = \\frac{1}{1 + e^{-z}} $       \n",
      "       \n",
      "So our final representation is:    \n",
      "$ g(z) = \\frac{1}{1 + e^{-\\theta^Tx}} $\n",
      "\n",
      "__this is the *sigmoid* or *logistic* function__"
     ]
    },
    {
     "cell_type": "markdown",
     "metadata": {},
     "source": [
      "$ p(x) $\n",
      "$ p(h|x) $\n",
      "$ p(x|h) $\n"
     ]
    },
    {
     "cell_type": "markdown",
     "metadata": {},
     "source": [
      "## Videos with topics"
     ]
    },
    {
     "cell_type": "code",
     "collapsed": false,
     "input": [
      "from IPython.display import YouTubeVideo\n",
      "# https://www.youtube.com/watch?v=e0Ts_7Y6hZU\n",
      "YouTubeVideo('https://www.youtube.com/watch?v=e0Ts_7Y6hZU')"
     ],
     "language": "python",
     "metadata": {},
     "outputs": [
      {
       "html": [
        "\n",
        "        <iframe\n",
        "            width=\"400\"\n",
        "            height=300\"\n",
        "            src=\"https://www.youtube.com/embed/https://www.youtube.com/watch?v=e0Ts_7Y6hZU\"\n",
        "            frameborder=\"0\"\n",
        "            allowfullscreen\n",
        "        ></iframe>\n",
        "        "
       ],
       "metadata": {},
       "output_type": "pyout",
       "prompt_number": 2,
       "text": [
        "<IPython.lib.display.YouTubeVideo at 0xa32bfcc>"
       ]
      }
     ],
     "prompt_number": 2
    },
    {
     "cell_type": "markdown",
     "metadata": {},
     "source": [
      "### the softmax"
     ]
    },
    {
     "cell_type": "markdown",
     "metadata": {},
     "source": []
    },
    {
     "cell_type": "markdown",
     "metadata": {},
     "source": [
      "$ p(h|x) = \\prod_{j} p(h_{j}|x) $"
     ]
    },
    {
     "cell_type": "markdown",
     "metadata": {},
     "source": [
      "$ p(h_{j}|x) = \\cfrac{1}{1+exp(-(b_{j}+{\\bf W}_{j}.x))} = sigm(b_{j}+{\\bf W}_{j}.x)$"
     ]
    },
    {
     "cell_type": "markdown",
     "metadata": {},
     "source": [
      "$ sigm(c_{k}+{\\bf h}^\\top{\\bf W}._{k}) $"
     ]
    },
    {
     "cell_type": "markdown",
     "metadata": {},
     "source": [
      "$ -\\cfrac{\\partial{log\\: p(x)}}{\\partial{\\theta}} = $\n",
      "$ \\cfrac{\\partial{\\mathcal{F}(x)}}{\\partial{\\theta}} $\n",
      "$  - \\sum\\limits_{\\tilde{x}}p(\\tilde{x})\\cfrac{\\partial{\\mathcal{F}(\\tilde{x})}}{\\partial{\\theta}}$\n"
     ]
    },
    {
     "cell_type": "markdown",
     "metadata": {},
     "source": [
      "$ -\\cfrac{\\partial{log\\: p(x)}}{\\partial{\\theta}} \\approx $\n",
      "$ \\cfrac{\\partial{\\mathcal{F}(x)}}{\\partial{\\theta}} $\n",
      "$  - \\cfrac{1}{|\\mathcal{N}|}\\sum\\limits_{\\tilde{x} \\in \\mathcal{N}}\\cfrac{\\partial{\\mathcal{F}(\\tilde{x})}}{\\partial{\\theta}}$\n"
     ]
    },
    {
     "cell_type": "markdown",
     "metadata": {},
     "source": [
      "$ \\sum\\limits_{i=0}^{n}$"
     ]
    },
    {
     "cell_type": "code",
     "collapsed": false,
     "input": [],
     "language": "python",
     "metadata": {},
     "outputs": []
    }
   ],
   "metadata": {}
  }
 ]
}